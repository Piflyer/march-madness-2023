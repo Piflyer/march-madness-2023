{
 "cells": [
  {
   "cell_type": "code",
   "execution_count": 5,
   "metadata": {
    "collapsed": true
   },
   "outputs": [],
   "source": [
    "import tensorflow as tf\n",
    "import numpy as np\n",
    "import pandas as pd"
   ]
  },
  {
   "cell_type": "code",
   "execution_count": 6,
   "outputs": [
    {
     "name": "stderr",
     "output_type": "stream",
     "text": [
      "2023-03-14 09:13:18.560534: I tensorflow/core/grappler/optimizers/custom_graph_optimizer_registry.cc:113] Plugin optimizer for device_type GPU is enabled.\n",
      "2023-03-14 09:13:18.563975: I tensorflow/core/grappler/optimizers/custom_graph_optimizer_registry.cc:113] Plugin optimizer for device_type GPU is enabled.\n"
     ]
    }
   ],
   "source": [
    "prediction_model = tf.keras.models.load_model('column_model')"
   ],
   "metadata": {
    "collapsed": false
   }
  },
  {
   "cell_type": "code",
   "execution_count": 99,
   "outputs": [],
   "source": [
    "tourney = pd.read_csv('Tourney.csv')"
   ],
   "metadata": {
    "collapsed": false
   }
  },
  {
   "cell_type": "code",
   "execution_count": 100,
   "outputs": [
    {
     "data": {
      "text/plain": "      Unnamed: 0  Year  Team  Seed  Offensive Rebound Percentage  \\\n0              0  2003  1101    18                           NaN   \n1              1  2003  1102    18                           NaN   \n2              2  2003  1103    18                           NaN   \n3              3  2003  1104    10                      0.453125   \n4              4  2003  1105    18                           NaN   \n...          ...   ...   ...   ...                           ...   \n7535        7535  2023  1473    18                           NaN   \n7536        7536  2023  1474    18                           NaN   \n7537        7537  2023  1475    18                           NaN   \n7538        7538  2023  1476    18                           NaN   \n7539        7539  2023  1477    18                           NaN   \n\n      Steals and Blocks Percentage  Turnover Percentage  \\\n0                              NaN                  NaN   \n1                              NaN                  NaN   \n2                              NaN                  NaN   \n3                         0.097561             0.097561   \n4                              NaN                  NaN   \n...                            ...                  ...   \n7535                           NaN                  NaN   \n7536                           NaN                  NaN   \n7537                           NaN                  NaN   \n7538                           NaN                  NaN   \n7539                           NaN                  NaN   \n\n      Field Goals Percentage  Three Point Percentage  Free Throw Percentage  \\\n0                        NaN                     NaN                    NaN   \n1                        NaN                     NaN                    NaN   \n2                        NaN                     NaN                    NaN   \n3                   0.423077                0.416667                 0.8125   \n4                        NaN                     NaN                    NaN   \n...                      ...                     ...                    ...   \n7535                     NaN                     NaN                    NaN   \n7536                     NaN                     NaN                    NaN   \n7537                     NaN                     NaN                    NaN   \n7538                     NaN                     NaN                    NaN   \n7539                     NaN                     NaN                    NaN   \n\n      Offensive Rating  Defensive Rating  Net Rating     Pace  Win Percentage  \\\n0                  NaN               NaN         NaN  0.00000             NaN   \n1                  NaN               NaN         NaN  0.00000             NaN   \n2                  NaN               NaN         NaN  0.00000             NaN   \n3             0.849315         81.707317  -80.858002  0.00679             0.0   \n4                  NaN               NaN         NaN  0.00000             NaN   \n...                ...               ...         ...      ...             ...   \n7535               NaN               NaN         NaN      NaN             NaN   \n7536               NaN               NaN         NaN      NaN             NaN   \n7537               NaN               NaN         NaN      NaN             NaN   \n7538               NaN               NaN         NaN      NaN             NaN   \n7539               NaN               NaN         NaN      NaN             NaN   \n\n      Team Momentum  Historical Momentum  Win Percentage Under 5  \n0                 0                    0                     NaN  \n1                 0                    0                     NaN  \n2                 0                    0                     NaN  \n3               -62                    0                     0.0  \n4                 0                    0                     NaN  \n...             ...                  ...                     ...  \n7535              0                    0                     NaN  \n7536              0                    0                     NaN  \n7537              0                    0                     NaN  \n7538              0                    0                     NaN  \n7539              0                    0                     NaN  \n\n[7540 rows x 18 columns]",
      "text/html": "<div>\n<style scoped>\n    .dataframe tbody tr th:only-of-type {\n        vertical-align: middle;\n    }\n\n    .dataframe tbody tr th {\n        vertical-align: top;\n    }\n\n    .dataframe thead th {\n        text-align: right;\n    }\n</style>\n<table border=\"1\" class=\"dataframe\">\n  <thead>\n    <tr style=\"text-align: right;\">\n      <th></th>\n      <th>Unnamed: 0</th>\n      <th>Year</th>\n      <th>Team</th>\n      <th>Seed</th>\n      <th>Offensive Rebound Percentage</th>\n      <th>Steals and Blocks Percentage</th>\n      <th>Turnover Percentage</th>\n      <th>Field Goals Percentage</th>\n      <th>Three Point Percentage</th>\n      <th>Free Throw Percentage</th>\n      <th>Offensive Rating</th>\n      <th>Defensive Rating</th>\n      <th>Net Rating</th>\n      <th>Pace</th>\n      <th>Win Percentage</th>\n      <th>Team Momentum</th>\n      <th>Historical Momentum</th>\n      <th>Win Percentage Under 5</th>\n    </tr>\n  </thead>\n  <tbody>\n    <tr>\n      <th>0</th>\n      <td>0</td>\n      <td>2003</td>\n      <td>1101</td>\n      <td>18</td>\n      <td>NaN</td>\n      <td>NaN</td>\n      <td>NaN</td>\n      <td>NaN</td>\n      <td>NaN</td>\n      <td>NaN</td>\n      <td>NaN</td>\n      <td>NaN</td>\n      <td>NaN</td>\n      <td>0.00000</td>\n      <td>NaN</td>\n      <td>0</td>\n      <td>0</td>\n      <td>NaN</td>\n    </tr>\n    <tr>\n      <th>1</th>\n      <td>1</td>\n      <td>2003</td>\n      <td>1102</td>\n      <td>18</td>\n      <td>NaN</td>\n      <td>NaN</td>\n      <td>NaN</td>\n      <td>NaN</td>\n      <td>NaN</td>\n      <td>NaN</td>\n      <td>NaN</td>\n      <td>NaN</td>\n      <td>NaN</td>\n      <td>0.00000</td>\n      <td>NaN</td>\n      <td>0</td>\n      <td>0</td>\n      <td>NaN</td>\n    </tr>\n    <tr>\n      <th>2</th>\n      <td>2</td>\n      <td>2003</td>\n      <td>1103</td>\n      <td>18</td>\n      <td>NaN</td>\n      <td>NaN</td>\n      <td>NaN</td>\n      <td>NaN</td>\n      <td>NaN</td>\n      <td>NaN</td>\n      <td>NaN</td>\n      <td>NaN</td>\n      <td>NaN</td>\n      <td>0.00000</td>\n      <td>NaN</td>\n      <td>0</td>\n      <td>0</td>\n      <td>NaN</td>\n    </tr>\n    <tr>\n      <th>3</th>\n      <td>3</td>\n      <td>2003</td>\n      <td>1104</td>\n      <td>10</td>\n      <td>0.453125</td>\n      <td>0.097561</td>\n      <td>0.097561</td>\n      <td>0.423077</td>\n      <td>0.416667</td>\n      <td>0.8125</td>\n      <td>0.849315</td>\n      <td>81.707317</td>\n      <td>-80.858002</td>\n      <td>0.00679</td>\n      <td>0.0</td>\n      <td>-62</td>\n      <td>0</td>\n      <td>0.0</td>\n    </tr>\n    <tr>\n      <th>4</th>\n      <td>4</td>\n      <td>2003</td>\n      <td>1105</td>\n      <td>18</td>\n      <td>NaN</td>\n      <td>NaN</td>\n      <td>NaN</td>\n      <td>NaN</td>\n      <td>NaN</td>\n      <td>NaN</td>\n      <td>NaN</td>\n      <td>NaN</td>\n      <td>NaN</td>\n      <td>0.00000</td>\n      <td>NaN</td>\n      <td>0</td>\n      <td>0</td>\n      <td>NaN</td>\n    </tr>\n    <tr>\n      <th>...</th>\n      <td>...</td>\n      <td>...</td>\n      <td>...</td>\n      <td>...</td>\n      <td>...</td>\n      <td>...</td>\n      <td>...</td>\n      <td>...</td>\n      <td>...</td>\n      <td>...</td>\n      <td>...</td>\n      <td>...</td>\n      <td>...</td>\n      <td>...</td>\n      <td>...</td>\n      <td>...</td>\n      <td>...</td>\n      <td>...</td>\n    </tr>\n    <tr>\n      <th>7535</th>\n      <td>7535</td>\n      <td>2023</td>\n      <td>1473</td>\n      <td>18</td>\n      <td>NaN</td>\n      <td>NaN</td>\n      <td>NaN</td>\n      <td>NaN</td>\n      <td>NaN</td>\n      <td>NaN</td>\n      <td>NaN</td>\n      <td>NaN</td>\n      <td>NaN</td>\n      <td>NaN</td>\n      <td>NaN</td>\n      <td>0</td>\n      <td>0</td>\n      <td>NaN</td>\n    </tr>\n    <tr>\n      <th>7536</th>\n      <td>7536</td>\n      <td>2023</td>\n      <td>1474</td>\n      <td>18</td>\n      <td>NaN</td>\n      <td>NaN</td>\n      <td>NaN</td>\n      <td>NaN</td>\n      <td>NaN</td>\n      <td>NaN</td>\n      <td>NaN</td>\n      <td>NaN</td>\n      <td>NaN</td>\n      <td>NaN</td>\n      <td>NaN</td>\n      <td>0</td>\n      <td>0</td>\n      <td>NaN</td>\n    </tr>\n    <tr>\n      <th>7537</th>\n      <td>7537</td>\n      <td>2023</td>\n      <td>1475</td>\n      <td>18</td>\n      <td>NaN</td>\n      <td>NaN</td>\n      <td>NaN</td>\n      <td>NaN</td>\n      <td>NaN</td>\n      <td>NaN</td>\n      <td>NaN</td>\n      <td>NaN</td>\n      <td>NaN</td>\n      <td>NaN</td>\n      <td>NaN</td>\n      <td>0</td>\n      <td>0</td>\n      <td>NaN</td>\n    </tr>\n    <tr>\n      <th>7538</th>\n      <td>7538</td>\n      <td>2023</td>\n      <td>1476</td>\n      <td>18</td>\n      <td>NaN</td>\n      <td>NaN</td>\n      <td>NaN</td>\n      <td>NaN</td>\n      <td>NaN</td>\n      <td>NaN</td>\n      <td>NaN</td>\n      <td>NaN</td>\n      <td>NaN</td>\n      <td>NaN</td>\n      <td>NaN</td>\n      <td>0</td>\n      <td>0</td>\n      <td>NaN</td>\n    </tr>\n    <tr>\n      <th>7539</th>\n      <td>7539</td>\n      <td>2023</td>\n      <td>1477</td>\n      <td>18</td>\n      <td>NaN</td>\n      <td>NaN</td>\n      <td>NaN</td>\n      <td>NaN</td>\n      <td>NaN</td>\n      <td>NaN</td>\n      <td>NaN</td>\n      <td>NaN</td>\n      <td>NaN</td>\n      <td>NaN</td>\n      <td>NaN</td>\n      <td>0</td>\n      <td>0</td>\n      <td>NaN</td>\n    </tr>\n  </tbody>\n</table>\n<p>7540 rows × 18 columns</p>\n</div>"
     },
     "execution_count": 100,
     "metadata": {},
     "output_type": "execute_result"
    }
   ],
   "source": [
    "tourney"
   ],
   "metadata": {
    "collapsed": false
   }
  },
  {
   "cell_type": "code",
   "execution_count": 101,
   "outputs": [],
   "source": [
    "regularseason = pd.read_csv('RegularSeason.csv')"
   ],
   "metadata": {
    "collapsed": false
   }
  },
  {
   "cell_type": "code",
   "execution_count": 102,
   "outputs": [
    {
     "data": {
      "text/plain": "      Unnamed: 0  Year  Team  Seed  Offensive Rebound Percentage  \\\n0              0  2003  1101    18                           NaN   \n1              1  2003  1102    18                      0.413793   \n2              2  2003  1103    18                      0.465738   \n3              3  2003  1104    10                      0.527903   \n4              4  2003  1105    18                      0.480565   \n...          ...   ...   ...   ...                           ...   \n7535        7535  2023  1473    18                      0.459733   \n7536        7536  2023  1474    18                      0.513238   \n7537        7537  2023  1475    18                      0.528224   \n7538        7538  2023  1476    18                      0.447640   \n7539        7539  2023  1477    18                      0.478807   \n\n      Steals and Blocks Percentage  Turnover Percentage  \\\n0                              NaN                  NaN   \n1                         0.116667             0.172043   \n2                         0.111782             0.147173   \n3                         0.131555             0.168174   \n4                         0.126875             0.207887   \n...                            ...                  ...   \n7535                      0.106132             0.147013   \n7536                      0.097503             0.141498   \n7537                      0.099923             0.139275   \n7538                      0.117836             0.153908   \n7539                      0.100671             0.148397   \n\n      Field Goals Percentage  Three Point Percentage  Free Throw Percentage  \\\n0                        NaN                     NaN                    NaN   \n1                   0.481149                0.375643               0.651357   \n2                   0.486074                0.338710               0.736390   \n3                   0.420362                0.320144               0.709898   \n4                   0.395755                0.364815               0.705986   \n...                      ...                     ...                    ...   \n7535                0.423402                0.362098               0.731343   \n7536                0.435520                0.347882               0.722397   \n7537                0.426884                0.365918               0.681282   \n7538                0.436745                0.348228               0.758893   \n7539                0.451488                0.319226               0.699805   \n\n      Offensive Rating  Defensive Rating  Net Rating      Pace  \\\n0                  NaN               NaN         NaN  0.000000   \n1             0.884658         85.806452  -84.921794  0.002364   \n2             0.903952         91.066034  -90.162081  0.003070   \n3             0.820296         82.278481  -81.458185  0.003085   \n4             0.788340         85.426489  -84.638150  0.003088   \n...                ...               ...         ...       ...   \n7535          0.837676         86.713836  -85.876160  0.002602   \n7536          0.848859         89.813714  -88.964855  0.002971   \n7537          0.830438         85.879630  -85.049192  0.002944   \n7538          0.860738         84.649299  -83.788561  0.002562   \n7539          0.872636         88.553318  -87.680682  0.002880   \n\n      Win Percentage  Team Momentum  Historical Momentum  \\\n0                NaN              0                    0   \n1           0.428571             47                    0   \n2           0.481481            155                    0   \n3           0.607143            600                    0   \n4           0.269231           -754                    0   \n...              ...            ...                  ...   \n7535        0.275862           -629                    0   \n7536        0.500000            109                    0   \n7537        0.448276           -109                    0   \n7538        0.433333           -144                    0   \n7539        0.375000           -533                    0   \n\n      Win Percentage Under 5  \n0                        NaN  \n1                   0.003460  \n2                   0.069252  \n3                   0.000000  \n4                   0.009070  \n...                      ...  \n7535                0.015625  \n7536                0.081633  \n7537                0.024931  \n7538                0.051653  \n7539                0.067215  \n\n[7540 rows x 18 columns]",
      "text/html": "<div>\n<style scoped>\n    .dataframe tbody tr th:only-of-type {\n        vertical-align: middle;\n    }\n\n    .dataframe tbody tr th {\n        vertical-align: top;\n    }\n\n    .dataframe thead th {\n        text-align: right;\n    }\n</style>\n<table border=\"1\" class=\"dataframe\">\n  <thead>\n    <tr style=\"text-align: right;\">\n      <th></th>\n      <th>Unnamed: 0</th>\n      <th>Year</th>\n      <th>Team</th>\n      <th>Seed</th>\n      <th>Offensive Rebound Percentage</th>\n      <th>Steals and Blocks Percentage</th>\n      <th>Turnover Percentage</th>\n      <th>Field Goals Percentage</th>\n      <th>Three Point Percentage</th>\n      <th>Free Throw Percentage</th>\n      <th>Offensive Rating</th>\n      <th>Defensive Rating</th>\n      <th>Net Rating</th>\n      <th>Pace</th>\n      <th>Win Percentage</th>\n      <th>Team Momentum</th>\n      <th>Historical Momentum</th>\n      <th>Win Percentage Under 5</th>\n    </tr>\n  </thead>\n  <tbody>\n    <tr>\n      <th>0</th>\n      <td>0</td>\n      <td>2003</td>\n      <td>1101</td>\n      <td>18</td>\n      <td>NaN</td>\n      <td>NaN</td>\n      <td>NaN</td>\n      <td>NaN</td>\n      <td>NaN</td>\n      <td>NaN</td>\n      <td>NaN</td>\n      <td>NaN</td>\n      <td>NaN</td>\n      <td>0.000000</td>\n      <td>NaN</td>\n      <td>0</td>\n      <td>0</td>\n      <td>NaN</td>\n    </tr>\n    <tr>\n      <th>1</th>\n      <td>1</td>\n      <td>2003</td>\n      <td>1102</td>\n      <td>18</td>\n      <td>0.413793</td>\n      <td>0.116667</td>\n      <td>0.172043</td>\n      <td>0.481149</td>\n      <td>0.375643</td>\n      <td>0.651357</td>\n      <td>0.884658</td>\n      <td>85.806452</td>\n      <td>-84.921794</td>\n      <td>0.002364</td>\n      <td>0.428571</td>\n      <td>47</td>\n      <td>0</td>\n      <td>0.003460</td>\n    </tr>\n    <tr>\n      <th>2</th>\n      <td>2</td>\n      <td>2003</td>\n      <td>1103</td>\n      <td>18</td>\n      <td>0.465738</td>\n      <td>0.111782</td>\n      <td>0.147173</td>\n      <td>0.486074</td>\n      <td>0.338710</td>\n      <td>0.736390</td>\n      <td>0.903952</td>\n      <td>91.066034</td>\n      <td>-90.162081</td>\n      <td>0.003070</td>\n      <td>0.481481</td>\n      <td>155</td>\n      <td>0</td>\n      <td>0.069252</td>\n    </tr>\n    <tr>\n      <th>3</th>\n      <td>3</td>\n      <td>2003</td>\n      <td>1104</td>\n      <td>10</td>\n      <td>0.527903</td>\n      <td>0.131555</td>\n      <td>0.168174</td>\n      <td>0.420362</td>\n      <td>0.320144</td>\n      <td>0.709898</td>\n      <td>0.820296</td>\n      <td>82.278481</td>\n      <td>-81.458185</td>\n      <td>0.003085</td>\n      <td>0.607143</td>\n      <td>600</td>\n      <td>0</td>\n      <td>0.000000</td>\n    </tr>\n    <tr>\n      <th>4</th>\n      <td>4</td>\n      <td>2003</td>\n      <td>1105</td>\n      <td>18</td>\n      <td>0.480565</td>\n      <td>0.126875</td>\n      <td>0.207887</td>\n      <td>0.395755</td>\n      <td>0.364815</td>\n      <td>0.705986</td>\n      <td>0.788340</td>\n      <td>85.426489</td>\n      <td>-84.638150</td>\n      <td>0.003088</td>\n      <td>0.269231</td>\n      <td>-754</td>\n      <td>0</td>\n      <td>0.009070</td>\n    </tr>\n    <tr>\n      <th>...</th>\n      <td>...</td>\n      <td>...</td>\n      <td>...</td>\n      <td>...</td>\n      <td>...</td>\n      <td>...</td>\n      <td>...</td>\n      <td>...</td>\n      <td>...</td>\n      <td>...</td>\n      <td>...</td>\n      <td>...</td>\n      <td>...</td>\n      <td>...</td>\n      <td>...</td>\n      <td>...</td>\n      <td>...</td>\n      <td>...</td>\n    </tr>\n    <tr>\n      <th>7535</th>\n      <td>7535</td>\n      <td>2023</td>\n      <td>1473</td>\n      <td>18</td>\n      <td>0.459733</td>\n      <td>0.106132</td>\n      <td>0.147013</td>\n      <td>0.423402</td>\n      <td>0.362098</td>\n      <td>0.731343</td>\n      <td>0.837676</td>\n      <td>86.713836</td>\n      <td>-85.876160</td>\n      <td>0.002602</td>\n      <td>0.275862</td>\n      <td>-629</td>\n      <td>0</td>\n      <td>0.015625</td>\n    </tr>\n    <tr>\n      <th>7536</th>\n      <td>7536</td>\n      <td>2023</td>\n      <td>1474</td>\n      <td>18</td>\n      <td>0.513238</td>\n      <td>0.097503</td>\n      <td>0.141498</td>\n      <td>0.435520</td>\n      <td>0.347882</td>\n      <td>0.722397</td>\n      <td>0.848859</td>\n      <td>89.813714</td>\n      <td>-88.964855</td>\n      <td>0.002971</td>\n      <td>0.500000</td>\n      <td>109</td>\n      <td>0</td>\n      <td>0.081633</td>\n    </tr>\n    <tr>\n      <th>7537</th>\n      <td>7537</td>\n      <td>2023</td>\n      <td>1475</td>\n      <td>18</td>\n      <td>0.528224</td>\n      <td>0.099923</td>\n      <td>0.139275</td>\n      <td>0.426884</td>\n      <td>0.365918</td>\n      <td>0.681282</td>\n      <td>0.830438</td>\n      <td>85.879630</td>\n      <td>-85.049192</td>\n      <td>0.002944</td>\n      <td>0.448276</td>\n      <td>-109</td>\n      <td>0</td>\n      <td>0.024931</td>\n    </tr>\n    <tr>\n      <th>7538</th>\n      <td>7538</td>\n      <td>2023</td>\n      <td>1476</td>\n      <td>18</td>\n      <td>0.447640</td>\n      <td>0.117836</td>\n      <td>0.153908</td>\n      <td>0.436745</td>\n      <td>0.348228</td>\n      <td>0.758893</td>\n      <td>0.860738</td>\n      <td>84.649299</td>\n      <td>-83.788561</td>\n      <td>0.002562</td>\n      <td>0.433333</td>\n      <td>-144</td>\n      <td>0</td>\n      <td>0.051653</td>\n    </tr>\n    <tr>\n      <th>7539</th>\n      <td>7539</td>\n      <td>2023</td>\n      <td>1477</td>\n      <td>18</td>\n      <td>0.478807</td>\n      <td>0.100671</td>\n      <td>0.148397</td>\n      <td>0.451488</td>\n      <td>0.319226</td>\n      <td>0.699805</td>\n      <td>0.872636</td>\n      <td>88.553318</td>\n      <td>-87.680682</td>\n      <td>0.002880</td>\n      <td>0.375000</td>\n      <td>-533</td>\n      <td>0</td>\n      <td>0.067215</td>\n    </tr>\n  </tbody>\n</table>\n<p>7540 rows × 18 columns</p>\n</div>"
     },
     "execution_count": 102,
     "metadata": {},
     "output_type": "execute_result"
    }
   ],
   "source": [
    "regularseason"
   ],
   "metadata": {
    "collapsed": false
   }
  },
  {
   "cell_type": "code",
   "execution_count": 33,
   "outputs": [],
   "source": [
    "seed2023 = {\"Seed\" : [1,1,1,1,2,2,2,2,3,3,3,3,4,4,4,4,5,5,5,5,6,6,6,6,7,7,7,7,8,8,8,8,9,9,9,9,10,10,10,10,11,11,11,11,11,11,12,12,12,12,13,13,13,13,14,14,14,14,15,15,15,15,16,16,16,16,16,16], \"Team\" : [\"PURDUE\", \"KANSAS\", \"ALABAMA\", \"HOUSTON\", \"MARQUETTE\", \"ARIZONA\", \"TEXAS\", \"GONZAGA\", \"KANSAS ST\", \"UCONN\", \"UCLA\", \"BAYLOR\", \"TENNESSEE\", \"TEXAS A&M\", \"XAVIER\", \"DUKE\", \" VIRGINIA\", \"MIAMI\", \"INDIANA\", \"ST MARY'S CA\", \"SAN DIEGO ST\", \"TCU\", \"IOWA ST\", \"MISSOURI\", \"NORTHWESTERN\", \"CREIGHTON\", \"MICHIGAN ST\", \"KENTUCKY\", \"MEMPHIS\", \"AUBURN\", \"MARYLAND\", \"ARKANSAS\", \"WEST VIRGINIA\", \"PENN ST\", \"FAU\", \"IOWA\", \"NC STATE\", \"ILLINOIS\", \"PROVIDENCE\", \"BOISE ST\", \"USC\", \"MISS ST\", \"UTAH ST\", \"PITTSBURGH\", \"NEVADA\", \"RUTGERS\", \"ORAL ROBERTS\", \"VCU\", \"DRAKE\", \"CHARLESTON\", \"YALE\", \"KENT ST\", \"IONA\", \"LOUISIANA\", \"KENNESAW ST\", \"GRAND CANYON\", \"UCSB\", \"FURMAN\", \"VERMONT\", \"UNC Asheville\", \"MONTANA ST\", \"COLGATE\", \"SE MISSOURI ST\", \"TX A&M Commerce\", \"FDU\", \"TEXAS ST\", \"HOWARD\", \"N KENTUCKY\"]}"
   ],
   "metadata": {
    "collapsed": false
   }
  },
  {
   "cell_type": "code",
   "execution_count": 34,
   "outputs": [],
   "source": [
    "seed2023 = pd.DataFrame(seed2023)"
   ],
   "metadata": {
    "collapsed": false
   }
  },
  {
   "cell_type": "code",
   "execution_count": 35,
   "outputs": [
    {
     "data": {
      "text/plain": "    Seed             Team\n0      1           PURDUE\n1      1           KANSAS\n2      1          ALABAMA\n3      1          HOUSTON\n4      2        MARQUETTE\n..   ...              ...\n63    16  TX A&M Commerce\n64    16              FDU\n65    16         TEXAS ST\n66    16           HOWARD\n67    16       N KENTUCKY\n\n[68 rows x 2 columns]",
      "text/html": "<div>\n<style scoped>\n    .dataframe tbody tr th:only-of-type {\n        vertical-align: middle;\n    }\n\n    .dataframe tbody tr th {\n        vertical-align: top;\n    }\n\n    .dataframe thead th {\n        text-align: right;\n    }\n</style>\n<table border=\"1\" class=\"dataframe\">\n  <thead>\n    <tr style=\"text-align: right;\">\n      <th></th>\n      <th>Seed</th>\n      <th>Team</th>\n    </tr>\n  </thead>\n  <tbody>\n    <tr>\n      <th>0</th>\n      <td>1</td>\n      <td>PURDUE</td>\n    </tr>\n    <tr>\n      <th>1</th>\n      <td>1</td>\n      <td>KANSAS</td>\n    </tr>\n    <tr>\n      <th>2</th>\n      <td>1</td>\n      <td>ALABAMA</td>\n    </tr>\n    <tr>\n      <th>3</th>\n      <td>1</td>\n      <td>HOUSTON</td>\n    </tr>\n    <tr>\n      <th>4</th>\n      <td>2</td>\n      <td>MARQUETTE</td>\n    </tr>\n    <tr>\n      <th>...</th>\n      <td>...</td>\n      <td>...</td>\n    </tr>\n    <tr>\n      <th>63</th>\n      <td>16</td>\n      <td>TX A&amp;M Commerce</td>\n    </tr>\n    <tr>\n      <th>64</th>\n      <td>16</td>\n      <td>FDU</td>\n    </tr>\n    <tr>\n      <th>65</th>\n      <td>16</td>\n      <td>TEXAS ST</td>\n    </tr>\n    <tr>\n      <th>66</th>\n      <td>16</td>\n      <td>HOWARD</td>\n    </tr>\n    <tr>\n      <th>67</th>\n      <td>16</td>\n      <td>N KENTUCKY</td>\n    </tr>\n  </tbody>\n</table>\n<p>68 rows × 2 columns</p>\n</div>"
     },
     "execution_count": 35,
     "metadata": {},
     "output_type": "execute_result"
    }
   ],
   "source": [
    "seed2023"
   ],
   "metadata": {
    "collapsed": false
   }
  },
  {
   "cell_type": "code",
   "execution_count": 36,
   "outputs": [],
   "source": [
    "teams = pd.read_csv('data/MTeams.csv')"
   ],
   "metadata": {
    "collapsed": false
   }
  },
  {
   "cell_type": "code",
   "execution_count": 37,
   "outputs": [
    {
     "data": {
      "text/plain": "     TeamID          TeamName  FirstD1Season  LastD1Season\n0      1101       abilene chr           2014          2023\n1      1102         air force           1985          2023\n2      1103             akron           1985          2023\n3      1104           alabama           1985          2023\n4      1105       alabama a&m           2000          2023\n..      ...               ...            ...           ...\n372    1473        lindenwood           2023          2023\n373    1474         queens nc           2023          2023\n374    1475  southern indiana           2023          2023\n375    1476         stonehill           2023          2023\n376    1477   tx a&m commerce           2023          2023\n\n[377 rows x 4 columns]",
      "text/html": "<div>\n<style scoped>\n    .dataframe tbody tr th:only-of-type {\n        vertical-align: middle;\n    }\n\n    .dataframe tbody tr th {\n        vertical-align: top;\n    }\n\n    .dataframe thead th {\n        text-align: right;\n    }\n</style>\n<table border=\"1\" class=\"dataframe\">\n  <thead>\n    <tr style=\"text-align: right;\">\n      <th></th>\n      <th>TeamID</th>\n      <th>TeamName</th>\n      <th>FirstD1Season</th>\n      <th>LastD1Season</th>\n    </tr>\n  </thead>\n  <tbody>\n    <tr>\n      <th>0</th>\n      <td>1101</td>\n      <td>abilene chr</td>\n      <td>2014</td>\n      <td>2023</td>\n    </tr>\n    <tr>\n      <th>1</th>\n      <td>1102</td>\n      <td>air force</td>\n      <td>1985</td>\n      <td>2023</td>\n    </tr>\n    <tr>\n      <th>2</th>\n      <td>1103</td>\n      <td>akron</td>\n      <td>1985</td>\n      <td>2023</td>\n    </tr>\n    <tr>\n      <th>3</th>\n      <td>1104</td>\n      <td>alabama</td>\n      <td>1985</td>\n      <td>2023</td>\n    </tr>\n    <tr>\n      <th>4</th>\n      <td>1105</td>\n      <td>alabama a&amp;m</td>\n      <td>2000</td>\n      <td>2023</td>\n    </tr>\n    <tr>\n      <th>...</th>\n      <td>...</td>\n      <td>...</td>\n      <td>...</td>\n      <td>...</td>\n    </tr>\n    <tr>\n      <th>372</th>\n      <td>1473</td>\n      <td>lindenwood</td>\n      <td>2023</td>\n      <td>2023</td>\n    </tr>\n    <tr>\n      <th>373</th>\n      <td>1474</td>\n      <td>queens nc</td>\n      <td>2023</td>\n      <td>2023</td>\n    </tr>\n    <tr>\n      <th>374</th>\n      <td>1475</td>\n      <td>southern indiana</td>\n      <td>2023</td>\n      <td>2023</td>\n    </tr>\n    <tr>\n      <th>375</th>\n      <td>1476</td>\n      <td>stonehill</td>\n      <td>2023</td>\n      <td>2023</td>\n    </tr>\n    <tr>\n      <th>376</th>\n      <td>1477</td>\n      <td>tx a&amp;m commerce</td>\n      <td>2023</td>\n      <td>2023</td>\n    </tr>\n  </tbody>\n</table>\n<p>377 rows × 4 columns</p>\n</div>"
     },
     "execution_count": 37,
     "metadata": {},
     "output_type": "execute_result"
    }
   ],
   "source": [
    "teams[\"TeamName\"] = teams[\"TeamName\"].str.lower()\n",
    "teams"
   ],
   "metadata": {
    "collapsed": false
   }
  },
  {
   "cell_type": "code",
   "execution_count": 38,
   "outputs": [
    {
     "data": {
      "text/plain": "    Seed             Team\n0      1           purdue\n1      1           kansas\n2      1          alabama\n3      1          houston\n4      2        marquette\n..   ...              ...\n63    16  tx a&m commerce\n64    16              fdu\n65    16         texas st\n66    16           howard\n67    16       n kentucky\n\n[68 rows x 2 columns]",
      "text/html": "<div>\n<style scoped>\n    .dataframe tbody tr th:only-of-type {\n        vertical-align: middle;\n    }\n\n    .dataframe tbody tr th {\n        vertical-align: top;\n    }\n\n    .dataframe thead th {\n        text-align: right;\n    }\n</style>\n<table border=\"1\" class=\"dataframe\">\n  <thead>\n    <tr style=\"text-align: right;\">\n      <th></th>\n      <th>Seed</th>\n      <th>Team</th>\n    </tr>\n  </thead>\n  <tbody>\n    <tr>\n      <th>0</th>\n      <td>1</td>\n      <td>purdue</td>\n    </tr>\n    <tr>\n      <th>1</th>\n      <td>1</td>\n      <td>kansas</td>\n    </tr>\n    <tr>\n      <th>2</th>\n      <td>1</td>\n      <td>alabama</td>\n    </tr>\n    <tr>\n      <th>3</th>\n      <td>1</td>\n      <td>houston</td>\n    </tr>\n    <tr>\n      <th>4</th>\n      <td>2</td>\n      <td>marquette</td>\n    </tr>\n    <tr>\n      <th>...</th>\n      <td>...</td>\n      <td>...</td>\n    </tr>\n    <tr>\n      <th>63</th>\n      <td>16</td>\n      <td>tx a&amp;m commerce</td>\n    </tr>\n    <tr>\n      <th>64</th>\n      <td>16</td>\n      <td>fdu</td>\n    </tr>\n    <tr>\n      <th>65</th>\n      <td>16</td>\n      <td>texas st</td>\n    </tr>\n    <tr>\n      <th>66</th>\n      <td>16</td>\n      <td>howard</td>\n    </tr>\n    <tr>\n      <th>67</th>\n      <td>16</td>\n      <td>n kentucky</td>\n    </tr>\n  </tbody>\n</table>\n<p>68 rows × 2 columns</p>\n</div>"
     },
     "execution_count": 38,
     "metadata": {},
     "output_type": "execute_result"
    }
   ],
   "source": [
    "seed2023['Team'] = seed2023['Team'].str.lower()\n",
    "seed2023"
   ],
   "metadata": {
    "collapsed": false
   }
  },
  {
   "cell_type": "code",
   "execution_count": 73,
   "outputs": [
    {
     "name": "stdout",
     "output_type": "stream",
     "text": [
      "1345 0\n",
      "1242 1\n",
      "1104 2\n",
      "1222 3\n",
      "1266 4\n",
      "1112 5\n",
      "1400 6\n",
      "1211 7\n",
      "1243 8\n",
      "1163 9\n",
      "1417 10\n",
      "1124 11\n",
      "1397 12\n",
      "1401 13\n",
      "1462 14\n",
      "1181 15\n",
      "1438 16\n",
      "1274 17\n",
      "1231 18\n",
      "1388 19\n",
      "1361 20\n",
      "1395 21\n",
      "1235 22\n",
      "1281 23\n",
      "1321 24\n",
      "1166 25\n",
      "1277 26\n",
      "1246 27\n",
      "1272 28\n",
      "1120 29\n",
      "1268 30\n",
      "1116 31\n",
      "1452 32\n",
      "1336 33\n",
      "1194 34\n",
      "1234 35\n",
      "1301 36\n",
      "1228 37\n",
      "1344 38\n",
      "1129 39\n",
      "1425 40\n",
      "1280 41\n",
      "1429 42\n",
      "1338 43\n",
      "1305 44\n",
      "1353 45\n",
      "1331 46\n",
      "1433 47\n",
      "1179 48\n",
      "1149 49\n",
      "1463 50\n",
      "1245 51\n",
      "1233 52\n",
      "1418 53\n",
      "1213 55\n",
      "1364 56\n",
      "1202 57\n",
      "1436 58\n",
      "1421 59\n",
      "1286 60\n",
      "1159 61\n",
      "1369 62\n",
      "1477 63\n",
      "1192 64\n",
      "1402 65\n",
      "1224 66\n",
      "1297 67\n"
     ]
    },
    {
     "name": "stderr",
     "output_type": "stream",
     "text": [
      "/var/folders/qw/5rcwl4d96zvcq7zxv7fzt3m80000gn/T/ipykernel_73345/2730120771.py:3: SettingWithCopyWarning: \n",
      "A value is trying to be set on a copy of a slice from a DataFrame\n",
      "\n",
      "See the caveats in the documentation: https://pandas.pydata.org/pandas-docs/stable/user_guide/indexing.html#returning-a-view-versus-a-copy\n",
      "  seed2023['Team'][i] = teams[teams['TeamName'] == seed2023['Team'][i]]['TeamID'].values[0]\n"
     ]
    }
   ],
   "source": [
    "for i in range(len(seed2023)):\n",
    "    try:\n",
    "        seed2023['Team'][i] = teams[teams['TeamName'] == seed2023['Team'][i]]['TeamID'].values[0]\n",
    "    except:\n",
    "        print(seed2023['Team'][i], i)"
   ],
   "metadata": {
    "collapsed": false
   }
  },
  {
   "cell_type": "code",
   "execution_count": 74,
   "outputs": [],
   "source": [
    "seed2023.to_csv('seed2023.csv')"
   ],
   "metadata": {
    "collapsed": false
   }
  },
  {
   "cell_type": "code",
   "execution_count": 76,
   "outputs": [
    {
     "data": {
      "text/plain": "1345"
     },
     "execution_count": 76,
     "metadata": {},
     "output_type": "execute_result"
    }
   ],
   "source": [
    "seed2023['Team'][0]"
   ],
   "metadata": {
    "collapsed": false
   }
  },
  {
   "cell_type": "code",
   "execution_count": 95,
   "outputs": [
    {
     "data": {
      "text/plain": "      Unnamed: 0  Year  Team  Seed  Offensive Rebound Percentage  \\\n244          244  2003  1345     9                      0.475524   \n621          621  2004  1345    18                           NaN   \n998          998  2005  1345    18                           NaN   \n1375        1375  2006  1345    18                           NaN   \n1752        1752  2007  1345     9                      0.515385   \n2129        2129  2008  1345     6                      0.529801   \n2506        2506  2009  1345     5                      0.470852   \n2883        2883  2010  1345     4                      0.429752   \n3260        3260  2011  1345     3                      0.559441   \n3637        3637  2012  1345    10                      0.450331   \n4014        4014  2013  1345    18                           NaN   \n4391        4391  2014  1345    18                           NaN   \n4768        4768  2015  1345     9                      0.573034   \n5145        5145  2016  1345     5                      0.536082   \n5522        5522  2017  1345     4                      0.532995   \n5899        5899  2018  1345     2                      0.520000   \n6276        6276  2019  1345     3                      0.531353   \n6653        6653  2021  1345     4                      0.569231   \n7030        7030  2022  1345     3                      0.605263   \n7407        7407  2023  1345    18                           NaN   \n\n      Steals and Blocks Percentage  Turnover Percentage  \\\n244                       0.107955             0.181818   \n621                            NaN                  NaN   \n998                            NaN                  NaN   \n1375                           NaN                  NaN   \n1752                      0.172185             0.132450   \n2129                      0.129730             0.124324   \n2506                      0.127490             0.119522   \n2883                      0.174905             0.125475   \n3260                      0.121795             0.147436   \n3637                      0.075581             0.116279   \n4014                           NaN                  NaN   \n4391                           NaN                  NaN   \n4768                      0.069767             0.139535   \n5145                      0.078947             0.157895   \n5522                      0.080460             0.137931   \n5899                      0.096916             0.158590   \n6276                      0.072022             0.110803   \n6653                      0.096386             0.132530   \n7030                      0.096386             0.148594   \n7407                           NaN                  NaN   \n\n      Field Goals Percentage  Three Point Percentage  Free Throw Percentage  \\\n244                 0.438596                0.437500               0.767442   \n621                      NaN                     NaN                    NaN   \n998                      NaN                     NaN                    NaN   \n1375                     NaN                     NaN                    NaN   \n1752                0.426230                0.294118               0.595238   \n2129                0.440299                0.414634               0.804878   \n2506                0.384615                0.296296               0.732143   \n2883                0.414773                0.306122               0.673913   \n3260                0.438017                0.325000               0.785714   \n3637                0.429907                0.382353               0.729730   \n4014                     NaN                     NaN                    NaN   \n4391                     NaN                     NaN                    NaN   \n4768                0.361111                0.153846               0.600000   \n5145                0.419355                0.321429               0.785714   \n5522                0.477778                0.369863               0.658537   \n5899                0.443787                0.421875               0.745098   \n6276                0.488889                0.439024               0.623377   \n6653                0.362319                0.300000               0.714286   \n7030                0.445946                0.300000               0.776596   \n7407                     NaN                     NaN                    NaN   \n\n      Offensive Rating  Defensive Rating  Net Rating      Pace  \\\n244           0.859649         75.568182  -74.708533  0.015905   \n621                NaN               NaN         NaN  0.000000   \n998                NaN               NaN         NaN  0.000000   \n1375               NaN               NaN         NaN  0.000000   \n1752          0.798851         90.728477  -89.929626  0.016426   \n2129          0.875000         88.648649  -87.773649  0.018130   \n2506          0.775591         80.478088  -79.702497  0.023525   \n2883          0.810127         74.144487  -73.334360  0.022323   \n3260          0.870370         87.820513  -86.950142  0.015043   \n3637          0.840764         76.744186  -75.903422  0.014643   \n4014               NaN               NaN         NaN  0.000000   \n4391               NaN               NaN         NaN  0.000000   \n4768          0.714286         76.744186  -76.029900  0.008477   \n5145          0.838384         74.561404  -73.723020  0.008908   \n5522          0.911290         93.486590  -92.575300  0.021858   \n5899          0.870445         87.665198  -86.794753  0.021924   \n6276          0.904494         78.393352  -77.488857  0.032267   \n6653          0.750000         93.975904  -93.225904  0.008536   \n7030          0.857692         77.911647  -77.053954  0.023362   \n7407               NaN               NaN         NaN       NaN   \n\n      Win Percentage  Team Momentum  Historical Momentum  \\\n244         0.500000             13                    0   \n621              NaN              0                   13   \n998              NaN              0                   13   \n1375             NaN              0                   13   \n1752        0.500000              5                   13   \n2129        0.500000             12                   18   \n2506        0.666667             77                   30   \n2883        0.666667             78                  107   \n3260        0.500000            -11                  185   \n3637        0.500000             12                  174   \n4014             NaN              0                  186   \n4391             NaN              0                  186   \n4768        0.000000            -65                  186   \n5145        0.000000            -83                  121   \n5522        0.666667             94                   38   \n5899        0.666667             85                  132   \n6276        0.750000            172                  217   \n6653        0.000000            -69                  389   \n7030        0.666667             95                  320   \n7407             NaN              0                  415   \n\n      Win Percentage Under 5  \n244                     0.00  \n621                      NaN  \n998                      NaN  \n1375                     NaN  \n1752                    0.00  \n2129                    0.00  \n2506                    0.25  \n2883                    0.25  \n3260                    0.00  \n3637                    0.25  \n4014                     NaN  \n4391                     NaN  \n4768                    0.00  \n5145                    0.00  \n5522                    0.25  \n5899                    0.25  \n6276                    0.00  \n6653                    0.00  \n7030                    0.00  \n7407                     NaN  ",
      "text/html": "<div>\n<style scoped>\n    .dataframe tbody tr th:only-of-type {\n        vertical-align: middle;\n    }\n\n    .dataframe tbody tr th {\n        vertical-align: top;\n    }\n\n    .dataframe thead th {\n        text-align: right;\n    }\n</style>\n<table border=\"1\" class=\"dataframe\">\n  <thead>\n    <tr style=\"text-align: right;\">\n      <th></th>\n      <th>Unnamed: 0</th>\n      <th>Year</th>\n      <th>Team</th>\n      <th>Seed</th>\n      <th>Offensive Rebound Percentage</th>\n      <th>Steals and Blocks Percentage</th>\n      <th>Turnover Percentage</th>\n      <th>Field Goals Percentage</th>\n      <th>Three Point Percentage</th>\n      <th>Free Throw Percentage</th>\n      <th>Offensive Rating</th>\n      <th>Defensive Rating</th>\n      <th>Net Rating</th>\n      <th>Pace</th>\n      <th>Win Percentage</th>\n      <th>Team Momentum</th>\n      <th>Historical Momentum</th>\n      <th>Win Percentage Under 5</th>\n    </tr>\n  </thead>\n  <tbody>\n    <tr>\n      <th>244</th>\n      <td>244</td>\n      <td>2003</td>\n      <td>1345</td>\n      <td>9</td>\n      <td>0.475524</td>\n      <td>0.107955</td>\n      <td>0.181818</td>\n      <td>0.438596</td>\n      <td>0.437500</td>\n      <td>0.767442</td>\n      <td>0.859649</td>\n      <td>75.568182</td>\n      <td>-74.708533</td>\n      <td>0.015905</td>\n      <td>0.500000</td>\n      <td>13</td>\n      <td>0</td>\n      <td>0.00</td>\n    </tr>\n    <tr>\n      <th>621</th>\n      <td>621</td>\n      <td>2004</td>\n      <td>1345</td>\n      <td>18</td>\n      <td>NaN</td>\n      <td>NaN</td>\n      <td>NaN</td>\n      <td>NaN</td>\n      <td>NaN</td>\n      <td>NaN</td>\n      <td>NaN</td>\n      <td>NaN</td>\n      <td>NaN</td>\n      <td>0.000000</td>\n      <td>NaN</td>\n      <td>0</td>\n      <td>13</td>\n      <td>NaN</td>\n    </tr>\n    <tr>\n      <th>998</th>\n      <td>998</td>\n      <td>2005</td>\n      <td>1345</td>\n      <td>18</td>\n      <td>NaN</td>\n      <td>NaN</td>\n      <td>NaN</td>\n      <td>NaN</td>\n      <td>NaN</td>\n      <td>NaN</td>\n      <td>NaN</td>\n      <td>NaN</td>\n      <td>NaN</td>\n      <td>0.000000</td>\n      <td>NaN</td>\n      <td>0</td>\n      <td>13</td>\n      <td>NaN</td>\n    </tr>\n    <tr>\n      <th>1375</th>\n      <td>1375</td>\n      <td>2006</td>\n      <td>1345</td>\n      <td>18</td>\n      <td>NaN</td>\n      <td>NaN</td>\n      <td>NaN</td>\n      <td>NaN</td>\n      <td>NaN</td>\n      <td>NaN</td>\n      <td>NaN</td>\n      <td>NaN</td>\n      <td>NaN</td>\n      <td>0.000000</td>\n      <td>NaN</td>\n      <td>0</td>\n      <td>13</td>\n      <td>NaN</td>\n    </tr>\n    <tr>\n      <th>1752</th>\n      <td>1752</td>\n      <td>2007</td>\n      <td>1345</td>\n      <td>9</td>\n      <td>0.515385</td>\n      <td>0.172185</td>\n      <td>0.132450</td>\n      <td>0.426230</td>\n      <td>0.294118</td>\n      <td>0.595238</td>\n      <td>0.798851</td>\n      <td>90.728477</td>\n      <td>-89.929626</td>\n      <td>0.016426</td>\n      <td>0.500000</td>\n      <td>5</td>\n      <td>13</td>\n      <td>0.00</td>\n    </tr>\n    <tr>\n      <th>2129</th>\n      <td>2129</td>\n      <td>2008</td>\n      <td>1345</td>\n      <td>6</td>\n      <td>0.529801</td>\n      <td>0.129730</td>\n      <td>0.124324</td>\n      <td>0.440299</td>\n      <td>0.414634</td>\n      <td>0.804878</td>\n      <td>0.875000</td>\n      <td>88.648649</td>\n      <td>-87.773649</td>\n      <td>0.018130</td>\n      <td>0.500000</td>\n      <td>12</td>\n      <td>18</td>\n      <td>0.00</td>\n    </tr>\n    <tr>\n      <th>2506</th>\n      <td>2506</td>\n      <td>2009</td>\n      <td>1345</td>\n      <td>5</td>\n      <td>0.470852</td>\n      <td>0.127490</td>\n      <td>0.119522</td>\n      <td>0.384615</td>\n      <td>0.296296</td>\n      <td>0.732143</td>\n      <td>0.775591</td>\n      <td>80.478088</td>\n      <td>-79.702497</td>\n      <td>0.023525</td>\n      <td>0.666667</td>\n      <td>77</td>\n      <td>30</td>\n      <td>0.25</td>\n    </tr>\n    <tr>\n      <th>2883</th>\n      <td>2883</td>\n      <td>2010</td>\n      <td>1345</td>\n      <td>4</td>\n      <td>0.429752</td>\n      <td>0.174905</td>\n      <td>0.125475</td>\n      <td>0.414773</td>\n      <td>0.306122</td>\n      <td>0.673913</td>\n      <td>0.810127</td>\n      <td>74.144487</td>\n      <td>-73.334360</td>\n      <td>0.022323</td>\n      <td>0.666667</td>\n      <td>78</td>\n      <td>107</td>\n      <td>0.25</td>\n    </tr>\n    <tr>\n      <th>3260</th>\n      <td>3260</td>\n      <td>2011</td>\n      <td>1345</td>\n      <td>3</td>\n      <td>0.559441</td>\n      <td>0.121795</td>\n      <td>0.147436</td>\n      <td>0.438017</td>\n      <td>0.325000</td>\n      <td>0.785714</td>\n      <td>0.870370</td>\n      <td>87.820513</td>\n      <td>-86.950142</td>\n      <td>0.015043</td>\n      <td>0.500000</td>\n      <td>-11</td>\n      <td>185</td>\n      <td>0.00</td>\n    </tr>\n    <tr>\n      <th>3637</th>\n      <td>3637</td>\n      <td>2012</td>\n      <td>1345</td>\n      <td>10</td>\n      <td>0.450331</td>\n      <td>0.075581</td>\n      <td>0.116279</td>\n      <td>0.429907</td>\n      <td>0.382353</td>\n      <td>0.729730</td>\n      <td>0.840764</td>\n      <td>76.744186</td>\n      <td>-75.903422</td>\n      <td>0.014643</td>\n      <td>0.500000</td>\n      <td>12</td>\n      <td>174</td>\n      <td>0.25</td>\n    </tr>\n    <tr>\n      <th>4014</th>\n      <td>4014</td>\n      <td>2013</td>\n      <td>1345</td>\n      <td>18</td>\n      <td>NaN</td>\n      <td>NaN</td>\n      <td>NaN</td>\n      <td>NaN</td>\n      <td>NaN</td>\n      <td>NaN</td>\n      <td>NaN</td>\n      <td>NaN</td>\n      <td>NaN</td>\n      <td>0.000000</td>\n      <td>NaN</td>\n      <td>0</td>\n      <td>186</td>\n      <td>NaN</td>\n    </tr>\n    <tr>\n      <th>4391</th>\n      <td>4391</td>\n      <td>2014</td>\n      <td>1345</td>\n      <td>18</td>\n      <td>NaN</td>\n      <td>NaN</td>\n      <td>NaN</td>\n      <td>NaN</td>\n      <td>NaN</td>\n      <td>NaN</td>\n      <td>NaN</td>\n      <td>NaN</td>\n      <td>NaN</td>\n      <td>0.000000</td>\n      <td>NaN</td>\n      <td>0</td>\n      <td>186</td>\n      <td>NaN</td>\n    </tr>\n    <tr>\n      <th>4768</th>\n      <td>4768</td>\n      <td>2015</td>\n      <td>1345</td>\n      <td>9</td>\n      <td>0.573034</td>\n      <td>0.069767</td>\n      <td>0.139535</td>\n      <td>0.361111</td>\n      <td>0.153846</td>\n      <td>0.600000</td>\n      <td>0.714286</td>\n      <td>76.744186</td>\n      <td>-76.029900</td>\n      <td>0.008477</td>\n      <td>0.000000</td>\n      <td>-65</td>\n      <td>186</td>\n      <td>0.00</td>\n    </tr>\n    <tr>\n      <th>5145</th>\n      <td>5145</td>\n      <td>2016</td>\n      <td>1345</td>\n      <td>5</td>\n      <td>0.536082</td>\n      <td>0.078947</td>\n      <td>0.157895</td>\n      <td>0.419355</td>\n      <td>0.321429</td>\n      <td>0.785714</td>\n      <td>0.838384</td>\n      <td>74.561404</td>\n      <td>-73.723020</td>\n      <td>0.008908</td>\n      <td>0.000000</td>\n      <td>-83</td>\n      <td>121</td>\n      <td>0.00</td>\n    </tr>\n    <tr>\n      <th>5522</th>\n      <td>5522</td>\n      <td>2017</td>\n      <td>1345</td>\n      <td>4</td>\n      <td>0.532995</td>\n      <td>0.080460</td>\n      <td>0.137931</td>\n      <td>0.477778</td>\n      <td>0.369863</td>\n      <td>0.658537</td>\n      <td>0.911290</td>\n      <td>93.486590</td>\n      <td>-92.575300</td>\n      <td>0.021858</td>\n      <td>0.666667</td>\n      <td>94</td>\n      <td>38</td>\n      <td>0.25</td>\n    </tr>\n    <tr>\n      <th>5899</th>\n      <td>5899</td>\n      <td>2018</td>\n      <td>1345</td>\n      <td>2</td>\n      <td>0.520000</td>\n      <td>0.096916</td>\n      <td>0.158590</td>\n      <td>0.443787</td>\n      <td>0.421875</td>\n      <td>0.745098</td>\n      <td>0.870445</td>\n      <td>87.665198</td>\n      <td>-86.794753</td>\n      <td>0.021924</td>\n      <td>0.666667</td>\n      <td>85</td>\n      <td>132</td>\n      <td>0.25</td>\n    </tr>\n    <tr>\n      <th>6276</th>\n      <td>6276</td>\n      <td>2019</td>\n      <td>1345</td>\n      <td>3</td>\n      <td>0.531353</td>\n      <td>0.072022</td>\n      <td>0.110803</td>\n      <td>0.488889</td>\n      <td>0.439024</td>\n      <td>0.623377</td>\n      <td>0.904494</td>\n      <td>78.393352</td>\n      <td>-77.488857</td>\n      <td>0.032267</td>\n      <td>0.750000</td>\n      <td>172</td>\n      <td>217</td>\n      <td>0.00</td>\n    </tr>\n    <tr>\n      <th>6653</th>\n      <td>6653</td>\n      <td>2021</td>\n      <td>1345</td>\n      <td>4</td>\n      <td>0.569231</td>\n      <td>0.096386</td>\n      <td>0.132530</td>\n      <td>0.362319</td>\n      <td>0.300000</td>\n      <td>0.714286</td>\n      <td>0.750000</td>\n      <td>93.975904</td>\n      <td>-93.225904</td>\n      <td>0.008536</td>\n      <td>0.000000</td>\n      <td>-69</td>\n      <td>389</td>\n      <td>0.00</td>\n    </tr>\n    <tr>\n      <th>7030</th>\n      <td>7030</td>\n      <td>2022</td>\n      <td>1345</td>\n      <td>3</td>\n      <td>0.605263</td>\n      <td>0.096386</td>\n      <td>0.148594</td>\n      <td>0.445946</td>\n      <td>0.300000</td>\n      <td>0.776596</td>\n      <td>0.857692</td>\n      <td>77.911647</td>\n      <td>-77.053954</td>\n      <td>0.023362</td>\n      <td>0.666667</td>\n      <td>95</td>\n      <td>320</td>\n      <td>0.00</td>\n    </tr>\n    <tr>\n      <th>7407</th>\n      <td>7407</td>\n      <td>2023</td>\n      <td>1345</td>\n      <td>18</td>\n      <td>NaN</td>\n      <td>NaN</td>\n      <td>NaN</td>\n      <td>NaN</td>\n      <td>NaN</td>\n      <td>NaN</td>\n      <td>NaN</td>\n      <td>NaN</td>\n      <td>NaN</td>\n      <td>NaN</td>\n      <td>NaN</td>\n      <td>0</td>\n      <td>415</td>\n      <td>NaN</td>\n    </tr>\n  </tbody>\n</table>\n</div>"
     },
     "execution_count": 95,
     "metadata": {},
     "output_type": "execute_result"
    }
   ],
   "source": [
    "tourney[tourney['Team'] == 1345]"
   ],
   "metadata": {
    "collapsed": false
   }
  },
  {
   "cell_type": "code",
   "execution_count": 82,
   "outputs": [],
   "source": [
    "tourneydetailedresults = pd.read_csv(\"data/MNCAATourneyDetailedResults.csv\")"
   ],
   "metadata": {
    "collapsed": false
   }
  },
  {
   "cell_type": "code",
   "execution_count": 83,
   "outputs": [
    {
     "data": {
      "text/plain": "      Season  DayNum  WTeamID  WScore  LTeamID  LScore WLoc  NumOT  WFGM  \\\n0       2003     134     1421      92     1411      84    N      1    32   \n1       2003     136     1112      80     1436      51    N      0    31   \n2       2003     136     1113      84     1272      71    N      0    31   \n3       2003     136     1141      79     1166      73    N      0    29   \n4       2003     136     1143      76     1301      74    N      1    27   \n...      ...     ...      ...     ...      ...     ...  ...    ...   ...   \n1243    2022     146     1242      76     1274      50    N      0    29   \n1244    2022     146     1314      69     1389      49    N      0    25   \n1245    2022     152     1242      81     1437      65    N      0    29   \n1246    2022     152     1314      81     1181      77    N      0    27   \n1247    2022     154     1242      72     1314      69    N      0    29   \n\n      WFGA  ...  LFGA3  LFTM  LFTA  LOR  LDR  LAst  LTO  LStl  LBlk  LPF  \n0       69  ...     31    14    31   17   28    16   15     5     0   22  \n1       66  ...     16     7     7    8   26    12   17    10     3   15  \n2       59  ...     28    14    21   20   22    11   12     2     5   18  \n3       53  ...     17    12    17   14   17    20   21     6     6   21  \n4       64  ...     21    15    20   10   26    16   14     5     8   19  \n...    ...  ...    ...   ...   ...  ...  ...   ...  ...   ...   ...  ...  \n1243    58  ...     21     9    13    5   21     7   14     7     4   20  \n1244    61  ...     16     9    10    4   25    11    7     4     7   18  \n1245    54  ...     31     8    10   12   17    12    9     3     0   11  \n1246    64  ...     22    12    20   13   25    12    4     7     4   18  \n1247    66  ...     23    18    22   20   29     9   13     2     6   13  \n\n[1248 rows x 34 columns]",
      "text/html": "<div>\n<style scoped>\n    .dataframe tbody tr th:only-of-type {\n        vertical-align: middle;\n    }\n\n    .dataframe tbody tr th {\n        vertical-align: top;\n    }\n\n    .dataframe thead th {\n        text-align: right;\n    }\n</style>\n<table border=\"1\" class=\"dataframe\">\n  <thead>\n    <tr style=\"text-align: right;\">\n      <th></th>\n      <th>Season</th>\n      <th>DayNum</th>\n      <th>WTeamID</th>\n      <th>WScore</th>\n      <th>LTeamID</th>\n      <th>LScore</th>\n      <th>WLoc</th>\n      <th>NumOT</th>\n      <th>WFGM</th>\n      <th>WFGA</th>\n      <th>...</th>\n      <th>LFGA3</th>\n      <th>LFTM</th>\n      <th>LFTA</th>\n      <th>LOR</th>\n      <th>LDR</th>\n      <th>LAst</th>\n      <th>LTO</th>\n      <th>LStl</th>\n      <th>LBlk</th>\n      <th>LPF</th>\n    </tr>\n  </thead>\n  <tbody>\n    <tr>\n      <th>0</th>\n      <td>2003</td>\n      <td>134</td>\n      <td>1421</td>\n      <td>92</td>\n      <td>1411</td>\n      <td>84</td>\n      <td>N</td>\n      <td>1</td>\n      <td>32</td>\n      <td>69</td>\n      <td>...</td>\n      <td>31</td>\n      <td>14</td>\n      <td>31</td>\n      <td>17</td>\n      <td>28</td>\n      <td>16</td>\n      <td>15</td>\n      <td>5</td>\n      <td>0</td>\n      <td>22</td>\n    </tr>\n    <tr>\n      <th>1</th>\n      <td>2003</td>\n      <td>136</td>\n      <td>1112</td>\n      <td>80</td>\n      <td>1436</td>\n      <td>51</td>\n      <td>N</td>\n      <td>0</td>\n      <td>31</td>\n      <td>66</td>\n      <td>...</td>\n      <td>16</td>\n      <td>7</td>\n      <td>7</td>\n      <td>8</td>\n      <td>26</td>\n      <td>12</td>\n      <td>17</td>\n      <td>10</td>\n      <td>3</td>\n      <td>15</td>\n    </tr>\n    <tr>\n      <th>2</th>\n      <td>2003</td>\n      <td>136</td>\n      <td>1113</td>\n      <td>84</td>\n      <td>1272</td>\n      <td>71</td>\n      <td>N</td>\n      <td>0</td>\n      <td>31</td>\n      <td>59</td>\n      <td>...</td>\n      <td>28</td>\n      <td>14</td>\n      <td>21</td>\n      <td>20</td>\n      <td>22</td>\n      <td>11</td>\n      <td>12</td>\n      <td>2</td>\n      <td>5</td>\n      <td>18</td>\n    </tr>\n    <tr>\n      <th>3</th>\n      <td>2003</td>\n      <td>136</td>\n      <td>1141</td>\n      <td>79</td>\n      <td>1166</td>\n      <td>73</td>\n      <td>N</td>\n      <td>0</td>\n      <td>29</td>\n      <td>53</td>\n      <td>...</td>\n      <td>17</td>\n      <td>12</td>\n      <td>17</td>\n      <td>14</td>\n      <td>17</td>\n      <td>20</td>\n      <td>21</td>\n      <td>6</td>\n      <td>6</td>\n      <td>21</td>\n    </tr>\n    <tr>\n      <th>4</th>\n      <td>2003</td>\n      <td>136</td>\n      <td>1143</td>\n      <td>76</td>\n      <td>1301</td>\n      <td>74</td>\n      <td>N</td>\n      <td>1</td>\n      <td>27</td>\n      <td>64</td>\n      <td>...</td>\n      <td>21</td>\n      <td>15</td>\n      <td>20</td>\n      <td>10</td>\n      <td>26</td>\n      <td>16</td>\n      <td>14</td>\n      <td>5</td>\n      <td>8</td>\n      <td>19</td>\n    </tr>\n    <tr>\n      <th>...</th>\n      <td>...</td>\n      <td>...</td>\n      <td>...</td>\n      <td>...</td>\n      <td>...</td>\n      <td>...</td>\n      <td>...</td>\n      <td>...</td>\n      <td>...</td>\n      <td>...</td>\n      <td>...</td>\n      <td>...</td>\n      <td>...</td>\n      <td>...</td>\n      <td>...</td>\n      <td>...</td>\n      <td>...</td>\n      <td>...</td>\n      <td>...</td>\n      <td>...</td>\n      <td>...</td>\n    </tr>\n    <tr>\n      <th>1243</th>\n      <td>2022</td>\n      <td>146</td>\n      <td>1242</td>\n      <td>76</td>\n      <td>1274</td>\n      <td>50</td>\n      <td>N</td>\n      <td>0</td>\n      <td>29</td>\n      <td>58</td>\n      <td>...</td>\n      <td>21</td>\n      <td>9</td>\n      <td>13</td>\n      <td>5</td>\n      <td>21</td>\n      <td>7</td>\n      <td>14</td>\n      <td>7</td>\n      <td>4</td>\n      <td>20</td>\n    </tr>\n    <tr>\n      <th>1244</th>\n      <td>2022</td>\n      <td>146</td>\n      <td>1314</td>\n      <td>69</td>\n      <td>1389</td>\n      <td>49</td>\n      <td>N</td>\n      <td>0</td>\n      <td>25</td>\n      <td>61</td>\n      <td>...</td>\n      <td>16</td>\n      <td>9</td>\n      <td>10</td>\n      <td>4</td>\n      <td>25</td>\n      <td>11</td>\n      <td>7</td>\n      <td>4</td>\n      <td>7</td>\n      <td>18</td>\n    </tr>\n    <tr>\n      <th>1245</th>\n      <td>2022</td>\n      <td>152</td>\n      <td>1242</td>\n      <td>81</td>\n      <td>1437</td>\n      <td>65</td>\n      <td>N</td>\n      <td>0</td>\n      <td>29</td>\n      <td>54</td>\n      <td>...</td>\n      <td>31</td>\n      <td>8</td>\n      <td>10</td>\n      <td>12</td>\n      <td>17</td>\n      <td>12</td>\n      <td>9</td>\n      <td>3</td>\n      <td>0</td>\n      <td>11</td>\n    </tr>\n    <tr>\n      <th>1246</th>\n      <td>2022</td>\n      <td>152</td>\n      <td>1314</td>\n      <td>81</td>\n      <td>1181</td>\n      <td>77</td>\n      <td>N</td>\n      <td>0</td>\n      <td>27</td>\n      <td>64</td>\n      <td>...</td>\n      <td>22</td>\n      <td>12</td>\n      <td>20</td>\n      <td>13</td>\n      <td>25</td>\n      <td>12</td>\n      <td>4</td>\n      <td>7</td>\n      <td>4</td>\n      <td>18</td>\n    </tr>\n    <tr>\n      <th>1247</th>\n      <td>2022</td>\n      <td>154</td>\n      <td>1242</td>\n      <td>72</td>\n      <td>1314</td>\n      <td>69</td>\n      <td>N</td>\n      <td>0</td>\n      <td>29</td>\n      <td>66</td>\n      <td>...</td>\n      <td>23</td>\n      <td>18</td>\n      <td>22</td>\n      <td>20</td>\n      <td>29</td>\n      <td>9</td>\n      <td>13</td>\n      <td>2</td>\n      <td>6</td>\n      <td>13</td>\n    </tr>\n  </tbody>\n</table>\n<p>1248 rows × 34 columns</p>\n</div>"
     },
     "execution_count": 83,
     "metadata": {},
     "output_type": "execute_result"
    }
   ],
   "source": [
    "tourneydetailedresults"
   ],
   "metadata": {
    "collapsed": false
   }
  },
  {
   "cell_type": "code",
   "execution_count": 89,
   "outputs": [
    {
     "ename": "ValueError",
     "evalue": "The truth value of a Series is ambiguous. Use a.empty, a.bool(), a.item(), a.any() or a.all().",
     "output_type": "error",
     "traceback": [
      "\u001B[0;31m---------------------------------------------------------------------------\u001B[0m",
      "\u001B[0;31mValueError\u001B[0m                                Traceback (most recent call last)",
      "Cell \u001B[0;32mIn[89], line 1\u001B[0m\n\u001B[0;32m----> 1\u001B[0m tourneydetailedresults[tourneydetailedresults[\u001B[38;5;124m'\u001B[39m\u001B[38;5;124mWTeamID\u001B[39m\u001B[38;5;124m'\u001B[39m] \u001B[38;5;241m==\u001B[39m \u001B[38;5;241m1345\u001B[39m \u001B[38;5;241m&\u001B[39m tourneydetailedresults[\u001B[38;5;124m'\u001B[39m\u001B[38;5;124mSeason\u001B[39m\u001B[38;5;124m'\u001B[39m] \u001B[38;5;241m==\u001B[39m \u001B[38;5;241m2023\u001B[39m]\n",
      "File \u001B[0;32m~/mambaforge/envs/env_arm/lib/python3.9/site-packages/pandas/core/generic.py:1527\u001B[0m, in \u001B[0;36mNDFrame.__nonzero__\u001B[0;34m(self)\u001B[0m\n\u001B[1;32m   1525\u001B[0m \u001B[38;5;129m@final\u001B[39m\n\u001B[1;32m   1526\u001B[0m \u001B[38;5;28;01mdef\u001B[39;00m \u001B[38;5;21m__nonzero__\u001B[39m(\u001B[38;5;28mself\u001B[39m) \u001B[38;5;241m-\u001B[39m\u001B[38;5;241m>\u001B[39m NoReturn:\n\u001B[0;32m-> 1527\u001B[0m     \u001B[38;5;28;01mraise\u001B[39;00m \u001B[38;5;167;01mValueError\u001B[39;00m(\n\u001B[1;32m   1528\u001B[0m         \u001B[38;5;124mf\u001B[39m\u001B[38;5;124m\"\u001B[39m\u001B[38;5;124mThe truth value of a \u001B[39m\u001B[38;5;132;01m{\u001B[39;00m\u001B[38;5;28mtype\u001B[39m(\u001B[38;5;28mself\u001B[39m)\u001B[38;5;241m.\u001B[39m\u001B[38;5;18m__name__\u001B[39m\u001B[38;5;132;01m}\u001B[39;00m\u001B[38;5;124m is ambiguous. \u001B[39m\u001B[38;5;124m\"\u001B[39m\n\u001B[1;32m   1529\u001B[0m         \u001B[38;5;124m\"\u001B[39m\u001B[38;5;124mUse a.empty, a.bool(), a.item(), a.any() or a.all().\u001B[39m\u001B[38;5;124m\"\u001B[39m\n\u001B[1;32m   1530\u001B[0m     )\n",
      "\u001B[0;31mValueError\u001B[0m: The truth value of a Series is ambiguous. Use a.empty, a.bool(), a.item(), a.any() or a.all()."
     ]
    }
   ],
   "source": [
    "tourneydetailedresults[tourneydetailedresults['WTeamID'] == 1345 & tourneydetailedresults['Season'] == 2023]"
   ],
   "metadata": {
    "collapsed": false
   }
  },
  {
   "cell_type": "code",
   "execution_count": 85,
   "outputs": [],
   "source": [
    "regularseasondetailed = pd.read_csv(\"data/MRegularSeasonDetailedResults.csv\")"
   ],
   "metadata": {
    "collapsed": false
   }
  },
  {
   "cell_type": "code",
   "execution_count": 91,
   "outputs": [
    {
     "data": {
      "text/plain": "        Season  DayNum  WTeamID  WScore  LTeamID  LScore WLoc  NumOT  WFGM  \\\n84        2003      18     1345      73     1275      46    H      0    26   \n422       2003      26     1345      86     1257      84    N      0    27   \n644       2003      32     1345      85     1292      56    H      0    27   \n728       2003      33     1345      95     1360      65    H      0    34   \n1027      2003      44     1345      78     1125      61    H      0    25   \n...        ...     ...      ...     ...      ...     ...  ...    ...   ...   \n105830    2023      93     1345      80     1336      60    H      0    28   \n106238    2023     101     1345      87     1234      73    H      0    33   \n106784    2023     111     1345      82     1326      55    H      0    27   \n107264    2023     122     1345      63     1458      61    A      0    24   \n107426    2023     125     1345      76     1228      71    H      0    25   \n\n        WFGA  ...  LFGA3  LFTM  LFTA  LOR  LDR  LAst  LTO  LStl  LBlk  LPF  \n84        51  ...     20     8    14   10   13     9   16     2     1   18  \n422       61  ...     19    28    38   18   25    16   11     5     7   29  \n644       57  ...     17     7    16   12   26    13   21     4     2   29  \n728       65  ...     20    11    18   21   24    14   23     8     3   18  \n1027      48  ...     21    11    16    4   16    15   18     8     0   26  \n...      ...  ...    ...   ...   ...  ...  ...   ...  ...   ...   ...  ...  \n105830    55  ...     29     3     4    2   15    16    7     3     1   14  \n106238    60  ...     18     6     7    5   15    22    7    11     3   13  \n106784    54  ...     19     6    11    5   12    11   10     9     6   21  \n107264    48  ...     24     5     5    6   15     8    6     5     0   17  \n107426    53  ...     22    16    24   10   18    13   14     8     7   23  \n\n[434 rows x 34 columns]",
      "text/html": "<div>\n<style scoped>\n    .dataframe tbody tr th:only-of-type {\n        vertical-align: middle;\n    }\n\n    .dataframe tbody tr th {\n        vertical-align: top;\n    }\n\n    .dataframe thead th {\n        text-align: right;\n    }\n</style>\n<table border=\"1\" class=\"dataframe\">\n  <thead>\n    <tr style=\"text-align: right;\">\n      <th></th>\n      <th>Season</th>\n      <th>DayNum</th>\n      <th>WTeamID</th>\n      <th>WScore</th>\n      <th>LTeamID</th>\n      <th>LScore</th>\n      <th>WLoc</th>\n      <th>NumOT</th>\n      <th>WFGM</th>\n      <th>WFGA</th>\n      <th>...</th>\n      <th>LFGA3</th>\n      <th>LFTM</th>\n      <th>LFTA</th>\n      <th>LOR</th>\n      <th>LDR</th>\n      <th>LAst</th>\n      <th>LTO</th>\n      <th>LStl</th>\n      <th>LBlk</th>\n      <th>LPF</th>\n    </tr>\n  </thead>\n  <tbody>\n    <tr>\n      <th>84</th>\n      <td>2003</td>\n      <td>18</td>\n      <td>1345</td>\n      <td>73</td>\n      <td>1275</td>\n      <td>46</td>\n      <td>H</td>\n      <td>0</td>\n      <td>26</td>\n      <td>51</td>\n      <td>...</td>\n      <td>20</td>\n      <td>8</td>\n      <td>14</td>\n      <td>10</td>\n      <td>13</td>\n      <td>9</td>\n      <td>16</td>\n      <td>2</td>\n      <td>1</td>\n      <td>18</td>\n    </tr>\n    <tr>\n      <th>422</th>\n      <td>2003</td>\n      <td>26</td>\n      <td>1345</td>\n      <td>86</td>\n      <td>1257</td>\n      <td>84</td>\n      <td>N</td>\n      <td>0</td>\n      <td>27</td>\n      <td>61</td>\n      <td>...</td>\n      <td>19</td>\n      <td>28</td>\n      <td>38</td>\n      <td>18</td>\n      <td>25</td>\n      <td>16</td>\n      <td>11</td>\n      <td>5</td>\n      <td>7</td>\n      <td>29</td>\n    </tr>\n    <tr>\n      <th>644</th>\n      <td>2003</td>\n      <td>32</td>\n      <td>1345</td>\n      <td>85</td>\n      <td>1292</td>\n      <td>56</td>\n      <td>H</td>\n      <td>0</td>\n      <td>27</td>\n      <td>57</td>\n      <td>...</td>\n      <td>17</td>\n      <td>7</td>\n      <td>16</td>\n      <td>12</td>\n      <td>26</td>\n      <td>13</td>\n      <td>21</td>\n      <td>4</td>\n      <td>2</td>\n      <td>29</td>\n    </tr>\n    <tr>\n      <th>728</th>\n      <td>2003</td>\n      <td>33</td>\n      <td>1345</td>\n      <td>95</td>\n      <td>1360</td>\n      <td>65</td>\n      <td>H</td>\n      <td>0</td>\n      <td>34</td>\n      <td>65</td>\n      <td>...</td>\n      <td>20</td>\n      <td>11</td>\n      <td>18</td>\n      <td>21</td>\n      <td>24</td>\n      <td>14</td>\n      <td>23</td>\n      <td>8</td>\n      <td>3</td>\n      <td>18</td>\n    </tr>\n    <tr>\n      <th>1027</th>\n      <td>2003</td>\n      <td>44</td>\n      <td>1345</td>\n      <td>78</td>\n      <td>1125</td>\n      <td>61</td>\n      <td>H</td>\n      <td>0</td>\n      <td>25</td>\n      <td>48</td>\n      <td>...</td>\n      <td>21</td>\n      <td>11</td>\n      <td>16</td>\n      <td>4</td>\n      <td>16</td>\n      <td>15</td>\n      <td>18</td>\n      <td>8</td>\n      <td>0</td>\n      <td>26</td>\n    </tr>\n    <tr>\n      <th>...</th>\n      <td>...</td>\n      <td>...</td>\n      <td>...</td>\n      <td>...</td>\n      <td>...</td>\n      <td>...</td>\n      <td>...</td>\n      <td>...</td>\n      <td>...</td>\n      <td>...</td>\n      <td>...</td>\n      <td>...</td>\n      <td>...</td>\n      <td>...</td>\n      <td>...</td>\n      <td>...</td>\n      <td>...</td>\n      <td>...</td>\n      <td>...</td>\n      <td>...</td>\n      <td>...</td>\n    </tr>\n    <tr>\n      <th>105830</th>\n      <td>2023</td>\n      <td>93</td>\n      <td>1345</td>\n      <td>80</td>\n      <td>1336</td>\n      <td>60</td>\n      <td>H</td>\n      <td>0</td>\n      <td>28</td>\n      <td>55</td>\n      <td>...</td>\n      <td>29</td>\n      <td>3</td>\n      <td>4</td>\n      <td>2</td>\n      <td>15</td>\n      <td>16</td>\n      <td>7</td>\n      <td>3</td>\n      <td>1</td>\n      <td>14</td>\n    </tr>\n    <tr>\n      <th>106238</th>\n      <td>2023</td>\n      <td>101</td>\n      <td>1345</td>\n      <td>87</td>\n      <td>1234</td>\n      <td>73</td>\n      <td>H</td>\n      <td>0</td>\n      <td>33</td>\n      <td>60</td>\n      <td>...</td>\n      <td>18</td>\n      <td>6</td>\n      <td>7</td>\n      <td>5</td>\n      <td>15</td>\n      <td>22</td>\n      <td>7</td>\n      <td>11</td>\n      <td>3</td>\n      <td>13</td>\n    </tr>\n    <tr>\n      <th>106784</th>\n      <td>2023</td>\n      <td>111</td>\n      <td>1345</td>\n      <td>82</td>\n      <td>1326</td>\n      <td>55</td>\n      <td>H</td>\n      <td>0</td>\n      <td>27</td>\n      <td>54</td>\n      <td>...</td>\n      <td>19</td>\n      <td>6</td>\n      <td>11</td>\n      <td>5</td>\n      <td>12</td>\n      <td>11</td>\n      <td>10</td>\n      <td>9</td>\n      <td>6</td>\n      <td>21</td>\n    </tr>\n    <tr>\n      <th>107264</th>\n      <td>2023</td>\n      <td>122</td>\n      <td>1345</td>\n      <td>63</td>\n      <td>1458</td>\n      <td>61</td>\n      <td>A</td>\n      <td>0</td>\n      <td>24</td>\n      <td>48</td>\n      <td>...</td>\n      <td>24</td>\n      <td>5</td>\n      <td>5</td>\n      <td>6</td>\n      <td>15</td>\n      <td>8</td>\n      <td>6</td>\n      <td>5</td>\n      <td>0</td>\n      <td>17</td>\n    </tr>\n    <tr>\n      <th>107426</th>\n      <td>2023</td>\n      <td>125</td>\n      <td>1345</td>\n      <td>76</td>\n      <td>1228</td>\n      <td>71</td>\n      <td>H</td>\n      <td>0</td>\n      <td>25</td>\n      <td>53</td>\n      <td>...</td>\n      <td>22</td>\n      <td>16</td>\n      <td>24</td>\n      <td>10</td>\n      <td>18</td>\n      <td>13</td>\n      <td>14</td>\n      <td>8</td>\n      <td>7</td>\n      <td>23</td>\n    </tr>\n  </tbody>\n</table>\n<p>434 rows × 34 columns</p>\n</div>"
     },
     "execution_count": 91,
     "metadata": {},
     "output_type": "execute_result"
    }
   ],
   "source": [
    "regularseasondetailed[regularseasondetailed['WTeamID'] == 1345]"
   ],
   "metadata": {
    "collapsed": false
   }
  },
  {
   "cell_type": "code",
   "execution_count": 93,
   "outputs": [],
   "source": [
    "def team_momentum(team, year, dataset):\n",
    "    team_stats = dataset.loc[(dataset[\"WTeamID\"] == team) & (dataset[\"Season\"] == year)]\n",
    "    team_stats = team_stats.append(dataset.loc[(dataset[\"LTeamID\"] == team) & (dataset[\"Season\"] == year)])\n",
    "    wins = team_stats.loc[(team_stats[\"WTeamID\"] == team)]\n",
    "    losses = team_stats.loc[(team_stats[\"LTeamID\"] == team)]\n",
    "    return wins[\"WScore\"].sum() - losses[\"LScore\"].sum()"
   ],
   "metadata": {
    "collapsed": false
   }
  },
  {
   "cell_type": "code",
   "execution_count": 98,
   "outputs": [
    {
     "name": "stdout",
     "output_type": "stream",
     "text": [
      "837\n",
      "459\n",
      "-740\n",
      "-469\n",
      "919\n",
      "1091\n",
      "1192\n",
      "1711\n",
      "1467\n",
      "852\n",
      "32\n",
      "24\n",
      "760\n",
      "1595\n",
      "1524\n",
      "1969\n",
      "1204\n"
     ]
    },
    {
     "name": "stderr",
     "output_type": "stream",
     "text": [
      "/var/folders/qw/5rcwl4d96zvcq7zxv7fzt3m80000gn/T/ipykernel_73345/2387990510.py:3: FutureWarning: The frame.append method is deprecated and will be removed from pandas in a future version. Use pandas.concat instead.\n",
      "  team_stats = team_stats.append(dataset.loc[(dataset[\"LTeamID\"] == team) & (dataset[\"Season\"] == year)])\n",
      "/var/folders/qw/5rcwl4d96zvcq7zxv7fzt3m80000gn/T/ipykernel_73345/2387990510.py:3: FutureWarning: The frame.append method is deprecated and will be removed from pandas in a future version. Use pandas.concat instead.\n",
      "  team_stats = team_stats.append(dataset.loc[(dataset[\"LTeamID\"] == team) & (dataset[\"Season\"] == year)])\n",
      "/var/folders/qw/5rcwl4d96zvcq7zxv7fzt3m80000gn/T/ipykernel_73345/2387990510.py:3: FutureWarning: The frame.append method is deprecated and will be removed from pandas in a future version. Use pandas.concat instead.\n",
      "  team_stats = team_stats.append(dataset.loc[(dataset[\"LTeamID\"] == team) & (dataset[\"Season\"] == year)])\n",
      "/var/folders/qw/5rcwl4d96zvcq7zxv7fzt3m80000gn/T/ipykernel_73345/2387990510.py:3: FutureWarning: The frame.append method is deprecated and will be removed from pandas in a future version. Use pandas.concat instead.\n",
      "  team_stats = team_stats.append(dataset.loc[(dataset[\"LTeamID\"] == team) & (dataset[\"Season\"] == year)])\n",
      "/var/folders/qw/5rcwl4d96zvcq7zxv7fzt3m80000gn/T/ipykernel_73345/2387990510.py:3: FutureWarning: The frame.append method is deprecated and will be removed from pandas in a future version. Use pandas.concat instead.\n",
      "  team_stats = team_stats.append(dataset.loc[(dataset[\"LTeamID\"] == team) & (dataset[\"Season\"] == year)])\n",
      "/var/folders/qw/5rcwl4d96zvcq7zxv7fzt3m80000gn/T/ipykernel_73345/2387990510.py:3: FutureWarning: The frame.append method is deprecated and will be removed from pandas in a future version. Use pandas.concat instead.\n",
      "  team_stats = team_stats.append(dataset.loc[(dataset[\"LTeamID\"] == team) & (dataset[\"Season\"] == year)])\n",
      "/var/folders/qw/5rcwl4d96zvcq7zxv7fzt3m80000gn/T/ipykernel_73345/2387990510.py:3: FutureWarning: The frame.append method is deprecated and will be removed from pandas in a future version. Use pandas.concat instead.\n",
      "  team_stats = team_stats.append(dataset.loc[(dataset[\"LTeamID\"] == team) & (dataset[\"Season\"] == year)])\n",
      "/var/folders/qw/5rcwl4d96zvcq7zxv7fzt3m80000gn/T/ipykernel_73345/2387990510.py:3: FutureWarning: The frame.append method is deprecated and will be removed from pandas in a future version. Use pandas.concat instead.\n",
      "  team_stats = team_stats.append(dataset.loc[(dataset[\"LTeamID\"] == team) & (dataset[\"Season\"] == year)])\n",
      "/var/folders/qw/5rcwl4d96zvcq7zxv7fzt3m80000gn/T/ipykernel_73345/2387990510.py:3: FutureWarning: The frame.append method is deprecated and will be removed from pandas in a future version. Use pandas.concat instead.\n",
      "  team_stats = team_stats.append(dataset.loc[(dataset[\"LTeamID\"] == team) & (dataset[\"Season\"] == year)])\n",
      "/var/folders/qw/5rcwl4d96zvcq7zxv7fzt3m80000gn/T/ipykernel_73345/2387990510.py:3: FutureWarning: The frame.append method is deprecated and will be removed from pandas in a future version. Use pandas.concat instead.\n",
      "  team_stats = team_stats.append(dataset.loc[(dataset[\"LTeamID\"] == team) & (dataset[\"Season\"] == year)])\n",
      "/var/folders/qw/5rcwl4d96zvcq7zxv7fzt3m80000gn/T/ipykernel_73345/2387990510.py:3: FutureWarning: The frame.append method is deprecated and will be removed from pandas in a future version. Use pandas.concat instead.\n",
      "  team_stats = team_stats.append(dataset.loc[(dataset[\"LTeamID\"] == team) & (dataset[\"Season\"] == year)])\n",
      "/var/folders/qw/5rcwl4d96zvcq7zxv7fzt3m80000gn/T/ipykernel_73345/2387990510.py:3: FutureWarning: The frame.append method is deprecated and will be removed from pandas in a future version. Use pandas.concat instead.\n",
      "  team_stats = team_stats.append(dataset.loc[(dataset[\"LTeamID\"] == team) & (dataset[\"Season\"] == year)])\n",
      "/var/folders/qw/5rcwl4d96zvcq7zxv7fzt3m80000gn/T/ipykernel_73345/2387990510.py:3: FutureWarning: The frame.append method is deprecated and will be removed from pandas in a future version. Use pandas.concat instead.\n",
      "  team_stats = team_stats.append(dataset.loc[(dataset[\"LTeamID\"] == team) & (dataset[\"Season\"] == year)])\n",
      "/var/folders/qw/5rcwl4d96zvcq7zxv7fzt3m80000gn/T/ipykernel_73345/2387990510.py:3: FutureWarning: The frame.append method is deprecated and will be removed from pandas in a future version. Use pandas.concat instead.\n",
      "  team_stats = team_stats.append(dataset.loc[(dataset[\"LTeamID\"] == team) & (dataset[\"Season\"] == year)])\n",
      "/var/folders/qw/5rcwl4d96zvcq7zxv7fzt3m80000gn/T/ipykernel_73345/2387990510.py:3: FutureWarning: The frame.append method is deprecated and will be removed from pandas in a future version. Use pandas.concat instead.\n",
      "  team_stats = team_stats.append(dataset.loc[(dataset[\"LTeamID\"] == team) & (dataset[\"Season\"] == year)])\n",
      "/var/folders/qw/5rcwl4d96zvcq7zxv7fzt3m80000gn/T/ipykernel_73345/2387990510.py:3: FutureWarning: The frame.append method is deprecated and will be removed from pandas in a future version. Use pandas.concat instead.\n",
      "  team_stats = team_stats.append(dataset.loc[(dataset[\"LTeamID\"] == team) & (dataset[\"Season\"] == year)])\n",
      "/var/folders/qw/5rcwl4d96zvcq7zxv7fzt3m80000gn/T/ipykernel_73345/2387990510.py:3: FutureWarning: The frame.append method is deprecated and will be removed from pandas in a future version. Use pandas.concat instead.\n",
      "  team_stats = team_stats.append(dataset.loc[(dataset[\"LTeamID\"] == team) & (dataset[\"Season\"] == year)])\n"
     ]
    }
   ],
   "source": [
    "for i in range(2003, 2020):\n",
    "    print(team_momentum(1345, i, regularseasondetailed))"
   ],
   "metadata": {
    "collapsed": false
   }
  },
  {
   "cell_type": "code",
   "execution_count": 116,
   "outputs": [
    {
     "data": {
      "text/plain": "      Unnamed: 0  Year  Team  Seed  Offensive Rebound Percentage  \\\n7407        7407  2023  1345    18                      0.599257   \n\n      Steals and Blocks Percentage  Turnover Percentage  \\\n7407                      0.116509             0.141874   \n\n      Field Goals Percentage  Three Point Percentage  Free Throw Percentage  \\\n7407                0.460956                0.327217               0.746835   \n\n      Offensive Rating  Defensive Rating  Net Rating      Pace  \\\n7407          0.885246          83.27601  -82.390764  0.002848   \n\n      Win Percentage  Team Momentum  Historical Momentum  \\\n7407         0.83871           1626                17290   \n\n      Win Percentage Under 5  \n7407                    0.25  ",
      "text/html": "<div>\n<style scoped>\n    .dataframe tbody tr th:only-of-type {\n        vertical-align: middle;\n    }\n\n    .dataframe tbody tr th {\n        vertical-align: top;\n    }\n\n    .dataframe thead th {\n        text-align: right;\n    }\n</style>\n<table border=\"1\" class=\"dataframe\">\n  <thead>\n    <tr style=\"text-align: right;\">\n      <th></th>\n      <th>Unnamed: 0</th>\n      <th>Year</th>\n      <th>Team</th>\n      <th>Seed</th>\n      <th>Offensive Rebound Percentage</th>\n      <th>Steals and Blocks Percentage</th>\n      <th>Turnover Percentage</th>\n      <th>Field Goals Percentage</th>\n      <th>Three Point Percentage</th>\n      <th>Free Throw Percentage</th>\n      <th>Offensive Rating</th>\n      <th>Defensive Rating</th>\n      <th>Net Rating</th>\n      <th>Pace</th>\n      <th>Win Percentage</th>\n      <th>Team Momentum</th>\n      <th>Historical Momentum</th>\n      <th>Win Percentage Under 5</th>\n    </tr>\n  </thead>\n  <tbody>\n    <tr>\n      <th>7407</th>\n      <td>7407</td>\n      <td>2023</td>\n      <td>1345</td>\n      <td>18</td>\n      <td>0.599257</td>\n      <td>0.116509</td>\n      <td>0.141874</td>\n      <td>0.460956</td>\n      <td>0.327217</td>\n      <td>0.746835</td>\n      <td>0.885246</td>\n      <td>83.27601</td>\n      <td>-82.390764</td>\n      <td>0.002848</td>\n      <td>0.83871</td>\n      <td>1626</td>\n      <td>17290</td>\n      <td>0.25</td>\n    </tr>\n  </tbody>\n</table>\n</div>"
     },
     "execution_count": 116,
     "metadata": {},
     "output_type": "execute_result"
    }
   ],
   "source": [
    "regularseason.query('Year == 2023 & Team == 1345')"
   ],
   "metadata": {
    "collapsed": false
   }
  },
  {
   "cell_type": "code",
   "execution_count": null,
   "outputs": [],
   "source": [
    "def predict_brackets(team1, team2, year, model, season):\n",
    "    team1_stats = season.query('Year == @year & Team == @team1')\n",
    "    team2_stats = season.query('Year == @year & Team == @team2')\n",
    "    team1_stats = team1_stats.drop(columns=['Year', 'Team', \"Unnamed: 0\"])\n",
    "    team2_stats = team2_stats.drop(columns=['Year', 'Team', \"Unnamed: 0\"])\n",
    "    difference = team1_stats.subtract(team2_stats, axis=\"columns\")\n",
    "    prediction = model.predict(difference)\n",
    "    prediction_conf = model.predict_proba(difference)\n",
    "    return prediction, prediction_conf"
   ],
   "metadata": {
    "collapsed": false
   }
  },
  {
   "cell_type": "code",
   "execution_count": null,
   "outputs": [],
   "source": [
    "south = []\n",
    "midwest= []\n",
    "east = []\n",
    "west = []"
   ],
   "metadata": {
    "collapsed": false
   }
  }
 ],
 "metadata": {
  "kernelspec": {
   "display_name": "Python 3",
   "language": "python",
   "name": "python3"
  },
  "language_info": {
   "codemirror_mode": {
    "name": "ipython",
    "version": 2
   },
   "file_extension": ".py",
   "mimetype": "text/x-python",
   "name": "python",
   "nbconvert_exporter": "python",
   "pygments_lexer": "ipython2",
   "version": "2.7.6"
  }
 },
 "nbformat": 4,
 "nbformat_minor": 0
}
